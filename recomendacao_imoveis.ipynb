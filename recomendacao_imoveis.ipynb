{
 "cells": [
  {
   "cell_type": "code",
   "execution_count": 4,
   "metadata": {},
   "outputs": [],
   "source": [
    "import json\n",
    "import os\n",
    "from datetime import datetime, timedelta\n",
    "from crewai import Agent, Task, Crew, Process\n",
    "from crewai_tools import CSVSearchTool\n",
    "from dotenv import load_dotenv, find_dotenv\n",
    "from langchain.tools import Tool\n",
    "from langchain_community.tools import DuckDuckGoSearchResults"
   ]
  },
  {
   "cell_type": "code",
   "execution_count": 5,
   "metadata": {},
   "outputs": [],
   "source": [
    "from langchain_openai import ChatOpenAI\n",
    "\n",
    "load_dotenv(find_dotenv())\n",
    "llm = ChatOpenAI(model=\"gpt-4-turbo\")"
   ]
  },
  {
   "cell_type": "code",
   "execution_count": 6,
   "metadata": {},
   "outputs": [
    {
     "name": "stderr",
     "output_type": "stream",
     "text": [
      "Inserting batches in chromadb: 100%|██████████| 1/1 [00:01<00:00,  1.84s/it]\n"
     ]
    }
   ],
   "source": [
    "csvImoveis = CSVSearchTool(csv=\"files/imoveis.csv\")"
   ]
  },
  {
   "cell_type": "code",
   "execution_count": 8,
   "metadata": {},
   "outputs": [],
   "source": [
    "# Agente Corretor de imóveis\n",
    "\n",
    "corretorImoveis = Agent(\n",
    "    role=\"Corretor de imóveis\",\n",
    "    goal=\"Obtenha as preferências e busque imóveis compatíveis no banco de dados\",\n",
    "    backstory=\"\"\"\n",
    "    Especialista no mercado imobiliário, encontra as melhores opções baseadas\n",
    "    no perfil do cliente\n",
    "    \"\"\",\n",
    "    verbose=True,\n",
    "    max_iter=5,\n",
    "    tools=[csvImoveis],\n",
    "    allow_delegation=False,\n",
    "    memory=True\n",
    ")"
   ]
  },
  {
   "cell_type": "code",
   "execution_count": null,
   "metadata": {},
   "outputs": [],
   "source": [
    "# Tarefa - Buscar imóvel\n",
    "\n",
    "buscarImovel = Task(\n",
    "    description=\"Pesquise imóveis na região desejada pelo cliente, considerando faixa de preço e tipo do imóvel\",\n",
    "    expected_output=\"Lista de imóveis disponíveis com detalhes sobre localização, preço e características\",\n",
    "    agent=corretorImoveis\n",
    ")"
   ]
  }
 ],
 "metadata": {
  "kernelspec": {
   "display_name": ".venv",
   "language": "python",
   "name": "python3"
  },
  "language_info": {
   "codemirror_mode": {
    "name": "ipython",
    "version": 3
   },
   "file_extension": ".py",
   "mimetype": "text/x-python",
   "name": "python",
   "nbconvert_exporter": "python",
   "pygments_lexer": "ipython3",
   "version": "3.12.8"
  }
 },
 "nbformat": 4,
 "nbformat_minor": 2
}
